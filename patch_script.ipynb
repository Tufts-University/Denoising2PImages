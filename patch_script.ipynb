{
 "cells": [
  {
   "cell_type": "code",
   "execution_count": 7,
   "id": "cb8cdfc6",
   "metadata": {},
   "outputs": [],
   "source": [
    "\n",
    "import numpy as np\n",
    "import matplotlib.pyplot as plt\n",
    "import os\n",
    "import h5py\n",
    "import random"
   ]
  },
  {
   "cell_type": "code",
   "execution_count": 4,
   "id": "ccc42b83",
   "metadata": {},
   "outputs": [
    {
     "name": "stdout",
     "output_type": "stream",
     "text": [
      "R:\\Cervical_Project\\Data\\Healthy\\20191003_Hysterectomy\n",
      "R:\\Cervical_Project\\Data\\Healthy\\20191031_Hysterectomy\n",
      "R:\\Cervical_Project\\Data\\Healthy\\20191107_Hysterectomy\n",
      "R:\\Cervical_Project\\Data\\Healthy\\20191121_Hysterectomy\n",
      "R:\\Cervical_Project\\Data\\Healthy\\20200220_Hyterectomy\n",
      "R:\\Cervical_Project\\Data\\Healthy\\20200305_Hysterectomy\n",
      "R:\\Cervical_Project\\Data\\Healthy\\20200928_Hysterectomy\n",
      "R:\\Cervical_Project\\Data\\Healthy\\20201008_Hysterectomy\n",
      "R:\\Cervical_Project\\Data\\Healthy\\20201119_Hysterectomy\n",
      "R:\\Cervical_Project\\Data\\Healthy\\20201127_Hysterectomy\n",
      "R:\\Cervical_Project\\Data\\Healthy\\20201214_Hysterectomy\n",
      "R:\\Cervical_Project\\Data\\Healthy\\20210218_Hysterectomy\n",
      "R:\\Cervical_Project\\Data\\Healthy\\20210415_Hysterectomy\n",
      "R:\\Cervical_Project\\Data\\Healthy\\20210423_Hysterectomy\n",
      "R:\\Cervical_Project\\Data\\Healthy\\20210526_Hysterectomy\n",
      "R:\\Cervical_Project\\Data\\Healthy\\20210715_Hysterectomy\n",
      "R:\\Cervical_Project\\Data\\Healthy\\20211104_Hysterectomy\n",
      "R:\\Cervical_Project\\Data\\Healthy\\20220331_Hysterectomy\n",
      "R:\\Cervical_Project\\Data\\Healthy\\20220421_Hysterectomy\n",
      "R:\\Cervical_Project\\Data\\Healthy\\FAD_healthy.npz\n",
      "R:\\Cervical_Project\\Data\\Healthy\\NADH_healthy.npz\n",
      "R:\\Cervical_Project\\Data\\Healthy\\NV_622_FAD_healthy.npz\n",
      "R:\\Cervical_Project\\Data\\Healthy\\NV_622_NADH_healthy.npz\n",
      "R:\\Cervical_Project\\Data\\COLPOs\\20200807_COLPO\n",
      "R:\\Cervical_Project\\Data\\COLPOs\\20200817_COLPO\n",
      "R:\\Cervical_Project\\Data\\COLPOs\\20200921_COLPO\n",
      "R:\\Cervical_Project\\Data\\COLPOs\\20201112_COLPO\n",
      "R:\\Cervical_Project\\Data\\COLPOs\\20201211_COLPO\n",
      "R:\\Cervical_Project\\Data\\COLPOs\\20201221_COLPO\n",
      "R:\\Cervical_Project\\Data\\COLPOs\\20210108_COLPO\n",
      "R:\\Cervical_Project\\Data\\COLPOs\\20210312_COLPO\n",
      "R:\\Cervical_Project\\Data\\COLPOs\\20210402_COLPO\n",
      "R:\\Cervical_Project\\Data\\COLPOs\\20210409_COLPO\n",
      "R:\\Cervical_Project\\Data\\COLPOs\\20210414_COLPO\n",
      "R:\\Cervical_Project\\Data\\COLPOs\\20210525_COLPO\n",
      "R:\\Cervical_Project\\Data\\COLPOs\\20210816_COLPO\n",
      "R:\\Cervical_Project\\Data\\COLPOs\\20210831_COLPO\n",
      "R:\\Cervical_Project\\Data\\COLPOs\\20210921_COLPO\n",
      "R:\\Cervical_Project\\Data\\COLPOs\\20211008_COLPO\n",
      "R:\\Cervical_Project\\Data\\COLPOs\\20220314_COLPO\n",
      "R:\\Cervical_Project\\Data\\COLPOs\\20220524_COLPO\n",
      "R:\\Cervical_Project\\Data\\COLPOs\\bad_data\n",
      "R:\\Cervical_Project\\Data\\LEEPs\\20190724_#21_LEEP\n",
      "R:\\Cervical_Project\\Data\\LEEPs\\20190816_LEEP\n",
      "R:\\Cervical_Project\\Data\\LEEPs\\20190920_#24_LEEP\n",
      "R:\\Cervical_Project\\Data\\LEEPs\\20200728_LEEP\n",
      "R:\\Cervical_Project\\Data\\LEEPs\\20200901_LEEP\n",
      "R:\\Cervical_Project\\Data\\LEEPs\\20200902_LEEP\n",
      "R:\\Cervical_Project\\Data\\LEEPs\\20200904_LEEP\n",
      "R:\\Cervical_Project\\Data\\LEEPs\\20200909_LEEP\n",
      "R:\\Cervical_Project\\Data\\LEEPs\\20210126_LEEP\n",
      "R:\\Cervical_Project\\Data\\LEEPs\\20210330_LEEP\n",
      "R:\\Cervical_Project\\Data\\LEEPs\\20210519_LEEP\n",
      "R:\\Cervical_Project\\Data\\LEEPs\\20210604_LEEP\n",
      "R:\\Cervical_Project\\Data\\LEEPs\\20210617_LEEP\n",
      "R:\\Cervical_Project\\Data\\LEEPs\\20210622_LEEP\n",
      "R:\\Cervical_Project\\Data\\LEEPs\\20210810_LEEP\n",
      "R:\\Cervical_Project\\Data\\LEEPs\\20210910_LEEP\n",
      "R:\\Cervical_Project\\Data\\LEEPs\\20210929_LEEP\n",
      "R:\\Cervical_Project\\Data\\LEEPs\\20211022_LEEP\n",
      "R:\\Cervical_Project\\Data\\LEEPs\\20211108_LEEP\n",
      "R:\\Cervical_Project\\Data\\LEEPs\\20211116_LEEP\n",
      "R:\\Cervical_Project\\Data\\LEEPs\\20211126_LEEP\n",
      "R:\\Cervical_Project\\Data\\LEEPs\\20211217_LEEP\n",
      "R:\\Cervical_Project\\Data\\LEEPs\\20211220_LEEP\n",
      "R:\\Cervical_Project\\Data\\LEEPs\\20211228_LEEP\n",
      "R:\\Cervical_Project\\Data\\LEEPs\\20220114_LEEP\n",
      "R:\\Cervical_Project\\Data\\LEEPs\\20220321_LEEP\n",
      "R:\\Cervical_Project\\Data\\LEEPs\\20220428_LEEP\n",
      "R:\\Cervical_Project\\Data\\LEEPs\\20220505_LEEP\n",
      "R:\\Cervical_Project\\Data\\LEEPs\\20220509_LEEP\n",
      "R:\\Cervical_Project\\Data\\LEEPs\\bad_data\n"
     ]
    }
   ],
   "source": [
    "procedure = ['Healthy', 'COLPOs','LEEPs']\n",
    "# main_path= \"R:\\Cervical_Project\\Data\\Healthy\"\n",
    "# main_path= \"R:\\Cervical_Project\\Data\\COLPOs\"\n",
    "# main_path= \"R:\\Cervical_Project\\Data\\Leeps\"\n",
    "#os.chdir(main_path)\n",
    "results_folders=[]\n",
    "\n",
    "for folder_name in procedure:\n",
    "    main_path = 'R:\\\\Cervical_Project\\\\Data\\\\' + folder_name\n",
    "    os.chdir(main_path)\n",
    "    files = os.listdir()\n",
    "    for file in files:\n",
    "        new_path = os.path.join(main_path, file)\n",
    "        print(new_path)\n",
    "        if os.path.isdir(new_path) and 'results_final' in os.listdir(new_path):\n",
    "            paired_path = os.path.join(new_path, 'results_final')\n",
    "            results_folders.append(paired_path)"
   ]
  },
  {
   "cell_type": "code",
   "execution_count": 3,
   "id": "91de26b2",
   "metadata": {},
   "outputs": [
    {
     "name": "stdout",
     "output_type": "stream",
     "text": [
      "R:\\Cervical_Project\\Data\\Healthy\\20191003_Hysterectomy\n",
      "R:\\Cervical_Project\\Data\\Healthy\\20191031_Hysterectomy\n",
      "R:\\Cervical_Project\\Data\\Healthy\\20191107_Hysterectomy\n",
      "R:\\Cervical_Project\\Data\\Healthy\\20191121_Hysterectomy\n",
      "R:\\Cervical_Project\\Data\\Healthy\\20200220_Hyterectomy\n",
      "R:\\Cervical_Project\\Data\\Healthy\\20200305_Hysterectomy\n",
      "R:\\Cervical_Project\\Data\\Healthy\\20200928_Hysterectomy\n",
      "R:\\Cervical_Project\\Data\\Healthy\\20201008_Hysterectomy\n",
      "R:\\Cervical_Project\\Data\\Healthy\\20201119_Hysterectomy\n",
      "R:\\Cervical_Project\\Data\\Healthy\\20201127_Hysterectomy\n",
      "R:\\Cervical_Project\\Data\\Healthy\\20201214_Hysterectomy\n",
      "R:\\Cervical_Project\\Data\\Healthy\\20210218_Hysterectomy\n",
      "R:\\Cervical_Project\\Data\\Healthy\\20210415_Hysterectomy\n",
      "R:\\Cervical_Project\\Data\\Healthy\\20210423_Hysterectomy\n",
      "R:\\Cervical_Project\\Data\\Healthy\\20210526_Hysterectomy\n",
      "R:\\Cervical_Project\\Data\\Healthy\\20210715_Hysterectomy\n",
      "R:\\Cervical_Project\\Data\\Healthy\\20211104_Hysterectomy\n",
      "R:\\Cervical_Project\\Data\\Healthy\\20220331_Hysterectomy\n",
      "R:\\Cervical_Project\\Data\\Healthy\\20220421_Hysterectomy\n",
      "R:\\Cervical_Project\\Data\\Healthy\\FAD_healthy.npz\n",
      "R:\\Cervical_Project\\Data\\Healthy\\NADH_healthy.npz\n",
      "R:\\Cervical_Project\\Data\\Healthy\\NV_622_FAD_healthy.npz\n",
      "R:\\Cervical_Project\\Data\\Healthy\\NV_622_NADH_healthy.npz\n"
     ]
    }
   ],
   "source": [
    "results_folders=[]\n",
    "files = os.listdir()\n",
    "for file in files:\n",
    "    new_path = os.path.join(main_path, file)\n",
    "    print(new_path)\n",
    "    if os.path.isdir(new_path) and 'results_final' in os.listdir(new_path):\n",
    "        paired_path = os.path.join(new_path, 'results_final')\n",
    "        results_folders.append(paired_path)"
   ]
  },
  {
   "cell_type": "code",
   "execution_count": 5,
   "id": "72cf53bc",
   "metadata": {},
   "outputs": [
    {
     "data": {
      "text/plain": [
       "['R:\\\\Cervical_Project\\\\Data\\\\Healthy\\\\20191003_Hysterectomy\\\\results_final',\n",
       " 'R:\\\\Cervical_Project\\\\Data\\\\Healthy\\\\20191031_Hysterectomy\\\\results_final',\n",
       " 'R:\\\\Cervical_Project\\\\Data\\\\Healthy\\\\20191107_Hysterectomy\\\\results_final',\n",
       " 'R:\\\\Cervical_Project\\\\Data\\\\Healthy\\\\20191121_Hysterectomy\\\\results_final',\n",
       " 'R:\\\\Cervical_Project\\\\Data\\\\Healthy\\\\20200220_Hyterectomy\\\\results_final',\n",
       " 'R:\\\\Cervical_Project\\\\Data\\\\Healthy\\\\20200305_Hysterectomy\\\\results_final',\n",
       " 'R:\\\\Cervical_Project\\\\Data\\\\Healthy\\\\20200928_Hysterectomy\\\\results_final',\n",
       " 'R:\\\\Cervical_Project\\\\Data\\\\Healthy\\\\20201008_Hysterectomy\\\\results_final',\n",
       " 'R:\\\\Cervical_Project\\\\Data\\\\Healthy\\\\20201119_Hysterectomy\\\\results_final',\n",
       " 'R:\\\\Cervical_Project\\\\Data\\\\Healthy\\\\20201127_Hysterectomy\\\\results_final',\n",
       " 'R:\\\\Cervical_Project\\\\Data\\\\Healthy\\\\20201214_Hysterectomy\\\\results_final',\n",
       " 'R:\\\\Cervical_Project\\\\Data\\\\Healthy\\\\20210218_Hysterectomy\\\\results_final',\n",
       " 'R:\\\\Cervical_Project\\\\Data\\\\Healthy\\\\20210415_Hysterectomy\\\\results_final',\n",
       " 'R:\\\\Cervical_Project\\\\Data\\\\Healthy\\\\20210423_Hysterectomy\\\\results_final',\n",
       " 'R:\\\\Cervical_Project\\\\Data\\\\Healthy\\\\20210526_Hysterectomy\\\\results_final',\n",
       " 'R:\\\\Cervical_Project\\\\Data\\\\Healthy\\\\20210715_Hysterectomy\\\\results_final',\n",
       " 'R:\\\\Cervical_Project\\\\Data\\\\Healthy\\\\20211104_Hysterectomy\\\\results_final',\n",
       " 'R:\\\\Cervical_Project\\\\Data\\\\Healthy\\\\20220421_Hysterectomy\\\\results_final',\n",
       " 'R:\\\\Cervical_Project\\\\Data\\\\COLPOs\\\\20200817_COLPO\\\\results_final',\n",
       " 'R:\\\\Cervical_Project\\\\Data\\\\COLPOs\\\\20201211_COLPO\\\\results_final',\n",
       " 'R:\\\\Cervical_Project\\\\Data\\\\COLPOs\\\\20201221_COLPO\\\\results_final',\n",
       " 'R:\\\\Cervical_Project\\\\Data\\\\COLPOs\\\\20210108_COLPO\\\\results_final',\n",
       " 'R:\\\\Cervical_Project\\\\Data\\\\COLPOs\\\\20210312_COLPO\\\\results_final',\n",
       " 'R:\\\\Cervical_Project\\\\Data\\\\COLPOs\\\\20210402_COLPO\\\\results_final',\n",
       " 'R:\\\\Cervical_Project\\\\Data\\\\COLPOs\\\\20210409_COLPO\\\\results_final',\n",
       " 'R:\\\\Cervical_Project\\\\Data\\\\COLPOs\\\\20210414_COLPO\\\\results_final',\n",
       " 'R:\\\\Cervical_Project\\\\Data\\\\COLPOs\\\\20210525_COLPO\\\\results_final',\n",
       " 'R:\\\\Cervical_Project\\\\Data\\\\COLPOs\\\\20210816_COLPO\\\\results_final',\n",
       " 'R:\\\\Cervical_Project\\\\Data\\\\COLPOs\\\\20210921_COLPO\\\\results_final',\n",
       " 'R:\\\\Cervical_Project\\\\Data\\\\COLPOs\\\\20211008_COLPO\\\\results_final',\n",
       " 'R:\\\\Cervical_Project\\\\Data\\\\COLPOs\\\\20220524_COLPO\\\\results_final',\n",
       " 'R:\\\\Cervical_Project\\\\Data\\\\LEEPs\\\\20190724_#21_LEEP\\\\results_final',\n",
       " 'R:\\\\Cervical_Project\\\\Data\\\\LEEPs\\\\20190816_LEEP\\\\results_final',\n",
       " 'R:\\\\Cervical_Project\\\\Data\\\\LEEPs\\\\20190920_#24_LEEP\\\\results_final',\n",
       " 'R:\\\\Cervical_Project\\\\Data\\\\LEEPs\\\\20200728_LEEP\\\\results_final',\n",
       " 'R:\\\\Cervical_Project\\\\Data\\\\LEEPs\\\\20200901_LEEP\\\\results_final',\n",
       " 'R:\\\\Cervical_Project\\\\Data\\\\LEEPs\\\\20200902_LEEP\\\\results_final',\n",
       " 'R:\\\\Cervical_Project\\\\Data\\\\LEEPs\\\\20200904_LEEP\\\\results_final',\n",
       " 'R:\\\\Cervical_Project\\\\Data\\\\LEEPs\\\\20200909_LEEP\\\\results_final',\n",
       " 'R:\\\\Cervical_Project\\\\Data\\\\LEEPs\\\\20210126_LEEP\\\\results_final',\n",
       " 'R:\\\\Cervical_Project\\\\Data\\\\LEEPs\\\\20210330_LEEP\\\\results_final',\n",
       " 'R:\\\\Cervical_Project\\\\Data\\\\LEEPs\\\\20210519_LEEP\\\\results_final',\n",
       " 'R:\\\\Cervical_Project\\\\Data\\\\LEEPs\\\\20210604_LEEP\\\\results_final',\n",
       " 'R:\\\\Cervical_Project\\\\Data\\\\LEEPs\\\\20210617_LEEP\\\\results_final',\n",
       " 'R:\\\\Cervical_Project\\\\Data\\\\LEEPs\\\\20210622_LEEP\\\\results_final',\n",
       " 'R:\\\\Cervical_Project\\\\Data\\\\LEEPs\\\\20210810_LEEP\\\\results_final',\n",
       " 'R:\\\\Cervical_Project\\\\Data\\\\LEEPs\\\\20210910_LEEP\\\\results_final',\n",
       " 'R:\\\\Cervical_Project\\\\Data\\\\LEEPs\\\\20210929_LEEP\\\\results_final',\n",
       " 'R:\\\\Cervical_Project\\\\Data\\\\LEEPs\\\\20211022_LEEP\\\\results_final',\n",
       " 'R:\\\\Cervical_Project\\\\Data\\\\LEEPs\\\\20211108_LEEP\\\\results_final',\n",
       " 'R:\\\\Cervical_Project\\\\Data\\\\LEEPs\\\\20211116_LEEP\\\\results_final',\n",
       " 'R:\\\\Cervical_Project\\\\Data\\\\LEEPs\\\\20211217_LEEP\\\\results_final',\n",
       " 'R:\\\\Cervical_Project\\\\Data\\\\LEEPs\\\\20211220_LEEP\\\\results_final',\n",
       " 'R:\\\\Cervical_Project\\\\Data\\\\LEEPs\\\\20211228_LEEP\\\\results_final',\n",
       " 'R:\\\\Cervical_Project\\\\Data\\\\LEEPs\\\\20220114_LEEP\\\\results_final',\n",
       " 'R:\\\\Cervical_Project\\\\Data\\\\LEEPs\\\\20220321_LEEP\\\\results_final',\n",
       " 'R:\\\\Cervical_Project\\\\Data\\\\LEEPs\\\\20220428_LEEP\\\\results_final',\n",
       " 'R:\\\\Cervical_Project\\\\Data\\\\LEEPs\\\\20220505_LEEP\\\\results_final',\n",
       " 'R:\\\\Cervical_Project\\\\Data\\\\LEEPs\\\\20220509_LEEP\\\\results_final']"
      ]
     },
     "execution_count": 5,
     "metadata": {},
     "output_type": "execute_result"
    }
   ],
   "source": [
    "results_folders"
   ]
  },
  {
   "cell_type": "code",
   "execution_count": 6,
   "id": "71f50196",
   "metadata": {},
   "outputs": [],
   "source": [
    "def normalize(image, p_min=2, p_max=99.9, dtype='float32'):\n",
    "    '''\n",
    "    Normalizes the image intensity so that the `p_min`-th and the `p_max`-th\n",
    "    percentiles are converted to 0 and 1 respectively.\n",
    "    References\n",
    "    ----------\n",
    "    Content-Aware Image Restoration: Pushing the Limits of Fluorescence\n",
    "    Microscopy\n",
    "    https://doi.org/10.1038/s41592-018-0216-7\n",
    "    '''\n",
    "    low, high = np.percentile(image, (p_min, p_max))\n",
    "    return (image - low) / (high - low + 1e-6)\n",
    "\n",
    "def patch_image(image):\n",
    "    '''Image should be 512x512'''\n",
    "    return image.reshape(2, 256, 2, 256).swapaxes(1, 2).reshape(4, 256, 256)\n",
    "\n",
    "def stitch_image(image):\n",
    "    '''Image should be 4x256x256'''\n",
    "    return np.reshape(image,[2, -1, 256, 256]).swapaxes(1,2).reshape(512, 512)\n",
    "\n",
    "def create_patches(input,start,end):\n",
    "    start = int(start)\n",
    "    end = int(end)\n",
    "    indices = list(range(start,end+1))\n",
    "    total_patches = []\n",
    "    for i in indices:\n",
    "        image = input[i]\n",
    "        image = np.transpose(image)\n",
    "        image = normalize(image,2,99.9)\n",
    "        patches = patch_image(image)\n",
    "        total_patches.append(patches)\n",
    "    #total_patches = np.swapaxes(total_patches,0,1)\\\n",
    "    total_patches = np.reshape(total_patches,(-1,256,256))\n",
    "    return list(total_patches)   "
   ]
  },
  {
   "cell_type": "code",
   "execution_count": null,
   "id": "54c4fb4a",
   "metadata": {},
   "outputs": [],
   "source": [
    "# Seed here is constant as we only ever want to generate ONE identical Training and Test Set\n",
    "ROIs = len(X_n)\n",
    "testing_split = round(ROIs*1/3)\n",
    "random.seed(0) \n",
    "Training_idx = sorted(random.sample(range(0,ROIs), ROIs-testing_split))\n",
    "Testing_idx = sorted([x for x in list(range(0,ROIs)) if x not in Training_idx])\n",
    "X_n_train, X_f_train = X_n[Training_idx]"
   ]
  },
  {
   "cell_type": "code",
   "execution_count": 6,
   "id": "994fc43e",
   "metadata": {},
   "outputs": [
    {
     "name": "stdout",
     "output_type": "stream",
     "text": [
      "Data was not processed: 20191003_Hysterectomy_ROI1_Series019_Series020_FINAL\n",
      "Data was not processed: 20191003_Hysterectomy_ROI2_Series030_Series033_FINAL\n",
      "Data was not processed: 20191003_Hysterectomy_ROI3_Series036_Series035_FINAL\n",
      "Data was not processed: 20191031_Hysterectomy_ROI1_Series005_Series006_FINAL\n",
      "Data was not processed: 20191031_Hysterectomy_ROI2_Series008_Series009_FINAL\n",
      "Data was not processed: 20191031_Hysterectomy_ROI3_Series011_Series012_FINAL\n",
      "Data was not processed: 20191031_Hysterectomy_ROI4_Series014_Series015_FINAL\n",
      "Data was not processed: 20191031_Hysterectomy_ROI5_Series017_Series019_FINAL\n",
      "Start and end found: 20191107_Hysterectomy_ROI1_FLIM 008_FLIM 2_016_FLIM 014_FLIM 2_022_FINAL: images=[40.]\n",
      "Start and end found: 20191121_Hysterectomy_ROI1_Series004_Series005_FINAL: images=[25.]\n",
      "Start and end found: 20191121_Hysterectomy_ROI2_Series012_Series014_FINAL: images=[33.]\n",
      "Start and end found: 20191121_Hysterectomy_ROI3_Series021_Series022_FINAL: images=[29.]\n",
      "Start and end found: 20200220_Hysterectomy_ROI2_Series004_Series005_FINAL: images=[38.]\n",
      "Start and end found: 20200220_Hysterectomy_ROI3_Series005_Series006_FINAL: images=[14.]\n",
      "Start and end found: 20200220_Hyterectomy_ROI1_Series002_Series003_FINAL: images=[26.]\n",
      "Start and end found: 20200305_Hysterectomy_ROI1_Series003_Series004_FINAL: images=[34.]\n",
      "Start and end found: 20200928_Hysterectomy_ROI1_Series004_Series005_FINAL: images=[37.]\n",
      "Start and end found: 20200928_Hysterectomy_ROI2_Series003_Series004_FINAL: images=[21.]\n",
      "Start and end found: 20200928_Hysterectomy_ROI3_Series006_Series007_FINAL: images=[34.]\n",
      "Start and end found: 20201008_Hysterectomy_ROI1_Series006_Series007_FINAL: images=[41.]\n",
      "Start and end found: 20201008_Hysterectomy_ROI2_Series008_Series009_FINAL: images=[25.]\n",
      "Start and end found: 20201008_Hysterectomy_ROI3_Series005_Series006_FINAL: images=[22.]\n",
      "Start and end found: 20201119_Hysterectomy_ROI1_Series010_Series012_FINAL: images=[12.]\n",
      "Start and end found: 20201119_Hysterectomy_ROI2_Series005_Series006_FINAL: images=[38.]\n",
      "Data was not processed: 20201119_Hysterectomy_ROI3_Series003_Series004_FINAL\n",
      "Start and end found: 20201127_Hysterectomy_ROI1_Series004_Series005_FINAL: images=[7.]\n",
      "Start and end found: 20201127_Hysterectomy_ROI2_Series005_Series006_FINAL: images=[28.]\n",
      "Start and end found: 20201127_Hysterectomy_ROI3_Series005_Series006_FINAL: images=[36.]\n",
      "Start and end found: 20201127_Hysterectomy_ROI4_Series003_Series004_FINAL: images=[37.]\n",
      "Start and end found: 20201214_Hysterectomy_ROI1_Series004_Series006_FINAL: images=[21.]\n",
      "Start and end found: 20201214_Hysterectomy_ROI2_Series007_Series008_FINAL: images=[29.]\n",
      "Start and end found: 20201214_Hysterectomy_ROI3_Series006_Series008_FINAL: images=[9.]\n",
      "Start and end found: 20201214_Hysterectomy_ROI4_Series006_Series008_FINAL: images=[30.]\n",
      "Start and end found: 20210218_Hysterectomy_ROI1_Series008_Series009_FINAL: images=[39.]\n",
      "Start and end found: 20210218_Hysterectomy_ROI2_Series006_Series007_FINAL: images=[25.]\n",
      "Start and end found: 20210218_Hysterectomy_ROI3_Series004_Series005_FINAL: images=[25.]\n",
      "Start and end found: 20210415_Hysterectomy_ROI1_Series012_Series013_FINAL: images=[5.]\n",
      "Start and end found: 20210415_Hysterectomy_ROI2_Series008_Series009_FINAL: images=[25.]\n",
      "Start and end found: 20210415_Hysterectomy_ROI3_Series003_Series004_FINAL: images=[19.]\n",
      "Data was not processed: 20210423_Hysterectomy_ROI1_Series012_Series014_FINAL\n",
      "Start and end found: 20210423_Hysterectomy_ROI2_Series003_Series004_FINAL: images=[4.]\n",
      "Start and end found: 20210423_Hysterectomy_ROI3_Series003_Series004_FINAL: images=[8.]\n",
      "Start and end found: 20210526_Hysterectomy_ROI1_Series003_Series004_FINAL: images=[16.]\n",
      "Start and end found: 20210526_Hysterectomy_ROI2_Series003_Series004_FINAL: images=[24.]\n",
      "Start and end found: 20210526_Hysterectomy_ROI3_Series009_Series010_FINAL: images=[35.]\n",
      "Start and end found: 20210526_Hysterectomy_ROI4_Series003_Series004_FINAL: images=[32.]\n",
      "Start and end found: 20210715_Hysterectomy_ROI1_Series006_Series007_FINAL: images=[32.]\n",
      "Start and end found: 20210715_Hysterectomy_ROI2_Series005_Series007_FINAL: images=[11.]\n",
      "Start and end found: 20210715_Hysterectomy_ROI3_Series004_Series005_FINAL: images=[25.]\n",
      "Start and end found: 20211104_Hysterectomy_ROI1_Series002_Series003_FINAL: images=[50.]\n",
      "Start and end found: 20211104_Hysterectomy_ROI2_Series003_Series004_FINAL: images=[40.]\n",
      "Start and end found: 20211104_Hysterectomy_ROI3_Series004_Series005_FINAL: images=[40.]\n",
      "Start and end found: 20220421_Hysterectomy_ROI1_Series003_Series004_FINAL: images=[18.]\n",
      "done\n"
     ]
    }
   ],
   "source": [
    "size=512\n",
    "X_N = []\n",
    "X_F = []\n",
    "Y_N = []\n",
    "Y_F = []\n",
    "start_list = []\n",
    "end_list = []\n",
    "key_names = []\n",
    "ROI_counter = 0\n",
    "stack_count = 0\n",
    "for result_folder in results_folders:\n",
    "    roi_mats = []\n",
    "    os.chdir(result_folder)\n",
    "    experiment_files = os.listdir()\n",
    "    for experiment_file in experiment_files:\n",
    "        if experiment_file.endswith('FINAL.mat'):\n",
    "            roi_mats.append(experiment_file)\n",
    "    for roi in roi_mats:\n",
    "        roi_name = roi[0:-4]\n",
    "        key_names.append(roi_name)\n",
    "        f= h5py.File(roi)\n",
    "        try: \n",
    "            start_stack = f['stack_begin'][0]-1\n",
    "            end_stack = f['stack_end'][0]-1\n",
    "            FAD= f['FAD_frames_512_shifted']\n",
    "            NADH= f['NADH_frames_512_shifted']\n",
    "            stack_num = end_stack - start_stack +1\n",
    "            assert stack_num > 0\n",
    "            low_SNR_NADH = create_patches(NADH[3],start_stack,end_stack)\n",
    "            high_SNR_NADH = create_patches(np.mean(NADH, axis=0),start_stack,end_stack)\n",
    "            low_SNR_FAD = create_patches(FAD[3],start_stack,end_stack)\n",
    "            high_SNR_FAD = create_patches(np.mean(FAD, axis=0),start_stack,end_stack)\n",
    "            X_N.append(low_SNR_NADH)\n",
    "            Y_N.append(high_SNR_NADH)\n",
    "            X_F.append(low_SNR_FAD)\n",
    "            Y_F.append(high_SNR_FAD)\n",
    "            ROI_counter += ROI_counter\n",
    "            start_list.append(int(stack_count*4))\n",
    "            stack_count += stack_num \n",
    "            end_list.append(int(stack_count*4-1))\n",
    "            print('Start and end found: ' + roi_name + \": images=\" + str(stack_num))\n",
    "        except:\n",
    "            print('Data was not processed: ' + roi_name)\n",
    "print('done')"
   ]
  },
  {
   "cell_type": "code",
   "execution_count": 15,
   "id": "7059e65f",
   "metadata": {},
   "outputs": [],
   "source": [
    "# TODO (nvora01): Fix the way start list saves the initial index of 0\n",
    "# start_list[0]=np.array([int(start_list[0])])\n",
    "ROI_keys = [item for sublist in key_names for item in sublist]\n",
    "stack_begin = [item for sublist in start_list for item in sublist]\n",
    "stack_end = [item for sublist in end_list for item in sublist]"
   ]
  },
  {
   "cell_type": "code",
   "execution_count": null,
   "id": "2eb4d479",
   "metadata": {},
   "outputs": [],
   "source": [
    "print(np.shape(X_N))"
   ]
  },
  {
   "cell_type": "code",
   "execution_count": 16,
   "id": "e95b0252",
   "metadata": {},
   "outputs": [],
   "source": [
    "X_n = [item for sublist in X_N for item in sublist]\n",
    "Y_n = [item for sublist in Y_N for item in sublist]\n",
    "X_f = [item for sublist in X_F for item in sublist]\n",
    "Y_f = [item for sublist in Y_F for item in sublist]"
   ]
  },
  {
   "cell_type": "code",
   "execution_count": null,
   "id": "7005969b",
   "metadata": {},
   "outputs": [],
   "source": []
  },
  {
   "cell_type": "code",
   "execution_count": 17,
   "id": "c476e410",
   "metadata": {},
   "outputs": [],
   "source": [
    "np.savez('R:\\\\Cervical_Project\\\\Data\\\\NV_907_NADH_Leep', X=X_n, Y=Y_n, SB=stack_begin, SE=stack_end)\n",
    "np.savez('R:\\\\Cervical_Project\\\\Data\\\\NV_907_FAD_Leep', X=X_f, Y=Y_f, SB=stack_begin, SE=stack_end)"
   ]
  },
  {
   "cell_type": "code",
   "execution_count": null,
   "id": "7bceed87",
   "metadata": {},
   "outputs": [],
   "source": [
    "plt.figure(figsize = [5,5])\n",
    "plt.imshow(Y_n[0])\n",
    "plt.figure(figsize = [5,5])\n",
    "plt.imshow(Y_n[1])\n",
    "plt.figure(figsize = [5,5])\n",
    "plt.imshow(Y_n[2])\n",
    "plt.figure(figsize = [5,5])\n",
    "plt.imshow(Y_n[3])"
   ]
  },
  {
   "cell_type": "code",
   "execution_count": null,
   "id": "8a805b29",
   "metadata": {},
   "outputs": [],
   "source": [
    "from tensorflow.image import ssim as ssim\n",
    "x = np.expand_dims(X_n[2],2)\n",
    "y = np.expand_dims(Y_n[2],2)\n",
    "print(ssim(x,y,1,k2=0.05))"
   ]
  },
  {
   "cell_type": "code",
   "execution_count": null,
   "id": "fe7187e2",
   "metadata": {},
   "outputs": [],
   "source": [
    "n_images=len(X_n)\n",
    "print(n_images)\n",
    "n_val   = int(round(n_images * 0.15))\n",
    "n_train = n_images - n_val\n",
    "X_t, Y_t = X_n[-n_val:],  Y_n[-n_val:]"
   ]
  },
  {
   "cell_type": "code",
   "execution_count": null,
   "id": "6b4f4b40",
   "metadata": {},
   "outputs": [],
   "source": [
    "n=133"
   ]
  },
  {
   "cell_type": "code",
   "execution_count": null,
   "id": "e02c18dd",
   "metadata": {},
   "outputs": [],
   "source": [
    "n=0\n",
    "plt.figure(figsize = [10,10])\n",
    "g= np.reshape(X_n[4*n:4*n+4],[2, -1, 256, 256]).swapaxes(1,2).reshape(512, 512)\n",
    "#patches= image.reshape(2, 256, -1, 256).swapaxes(1, 2).reshape(-1, 256, 256)\n",
    "plt.imshow(g,cmap='Greys_r')\n",
    "g2=np.reshape(Y_n[4*n:4*n+4],[2, -1, 256, 256]).swapaxes(1,2).reshape(512, 512)\n",
    "plt.figure(figsize = [10,10])\n",
    "plt.imshow(g2,cmap='Greys_r')\n",
    "\n",
    "g3=g2.reshape(2, 256, 2, 256).swapaxes(1, 2).reshape(4, 256, 256)\n",
    "g4=np.reshape(g3[4*n:4*n+4],[2, -1, 256, 256]).swapaxes(1,2).reshape(512, 512)\n",
    "plt.figure(figsize = [10,10])\n",
    "plt.imshow(g4,cmap='Greys_r')\n",
    "# plt.figure(figsize = [5,5])\n",
    "# plt.imshow(Y_n[0])\n",
    "# plt.figure(figsize = [5,5])\n",
    "# plt.imshow(Y_n[1])\n",
    "# plt.figure(figsize = [5,5])\n",
    "# plt.imshow(Y_n[2])"
   ]
  },
  {
   "cell_type": "code",
   "execution_count": null,
   "id": "630464be",
   "metadata": {},
   "outputs": [],
   "source": [
    "X_val=X_t[4*n+2:4*n+6]\n",
    "Y_val=Y_t[4*n+2:4*n+6]\n",
    "print(np.shape(X_val))\n",
    "print(np.shape(Y_val))"
   ]
  },
  {
   "cell_type": "code",
   "execution_count": null,
   "id": "0638409c",
   "metadata": {},
   "outputs": [],
   "source": [
    "def normalize(image, p_min=2, p_max=99.9, dtype='float32'):\n",
    "    '''\n",
    "    Normalizes the image intensity so that the `p_min`-th and the `p_max`-th\n",
    "    percentiles are converted to 0 and 1 respectively.\n",
    "    References\n",
    "    ----------\n",
    "    Content-Aware Image Restoration: Pushing the Limits of Fluorescence\n",
    "    Microscopy\n",
    "    https://doi.org/10.1038/s41592-018-0216-7\n",
    "    '''\n",
    "    low, high = np.percentile(image, (p_min, p_max))\n",
    "    return (image - low) / (high - low + 1e-6)"
   ]
  },
  {
   "cell_type": "code",
   "execution_count": null,
   "id": "bcd85b0d",
   "metadata": {},
   "outputs": [],
   "source": [
    "# for p in range(len(X_val)):\n",
    "#     X_val[p] = normalize(X_val[p],2,99.9)\n",
    "#     Y_val[p] = normalize(Y_val[p],2,99.9)\n",
    "g= np.reshape(X_val,[2, -1, 256, 256]).swapaxes(1,2).reshape(512, 512)\n",
    "g2=np.reshape(Y_val,[2, -1, 256, 256]).swapaxes(1,2).reshape(512, 512)\n",
    "X_val = normalize(g,2,99.9)\n",
    "Y_val = normalize(g2,2,99.9)\n",
    "plt.figure(figsize = [10,10])\n",
    "g= X_val\n",
    "plt.imshow(g,cmap='Greys_r')\n",
    "g2=Y_val\n",
    "plt.figure(figsize = [10,10])\n",
    "plt.imshow(g2,cmap='Greys_r')"
   ]
  },
  {
   "cell_type": "code",
   "execution_count": null,
   "id": "6bd6f1ef",
   "metadata": {},
   "outputs": [],
   "source": [
    "plt.figure(figsize = [10,10])\n",
    "g= np.reshape(X_val,[2, -1, 256, 256]).swapaxes(1,2).reshape(512, 512)\n",
    "plt.imshow(g,cmap='Greys_r')\n",
    "g2=np.reshape(Y_val,[2, -1, 256, 256]).swapaxes(1,2).reshape(512, 512)\n",
    "plt.figure(figsize = [10,10])\n",
    "plt.imshow(g2,cmap='Greys_r')"
   ]
  },
  {
   "cell_type": "code",
   "execution_count": null,
   "id": "6b876cf4",
   "metadata": {},
   "outputs": [],
   "source": [
    "plt.figure(figsize = [5,5])\n",
    "plt.imshow(Y_val[0],cmap='Greys_r')\n",
    "plt.figure(figsize = [5,5])\n",
    "plt.imshow(Y_val[1],cmap='Greys_r')\n",
    "plt.figure(figsize = [5,5])\n",
    "plt.imshow(Y_val[2],cmap='Greys_r')\n",
    "plt.figure(figsize = [5,5])\n",
    "plt.imshow(Y_val[3],cmap='Greys_r')"
   ]
  },
  {
   "cell_type": "code",
   "execution_count": null,
   "id": "b0406579",
   "metadata": {},
   "outputs": [],
   "source": [
    "data_path = 'R:\\Cervical_Project\\Data'\n",
    "os.chdir(data_path)\n",
    "np.savez(\"NV_707_NADH_healthy\", X=X_n, Y=Y_n)\n",
    "np.savez(\"NV_707_FAD_healthy\", X=X_f, Y=Y_f)"
   ]
  },
  {
   "cell_type": "code",
   "execution_count": null,
   "id": "7c8c6d8c",
   "metadata": {},
   "outputs": [],
   "source": [
    "data_path = 'R:\\Cervical_Project\\Data'\n",
    "os.chdir(data_path)\n",
    "f = np.load('HealthyČ_NADH_healthy.npz')\n",
    "X, Y = f['X'], f['Y']"
   ]
  },
  {
   "cell_type": "code",
   "execution_count": null,
   "id": "672107a9",
   "metadata": {},
   "outputs": [],
   "source": [
    "plt.imshow(X[3][1])"
   ]
  },
  {
   "cell_type": "code",
   "execution_count": null,
   "id": "f0c44716",
   "metadata": {},
   "outputs": [],
   "source": [
    "np.max(X_n[4][1])\n"
   ]
  },
  {
   "cell_type": "code",
   "execution_count": null,
   "id": "68d7aca7",
   "metadata": {},
   "outputs": [],
   "source": [
    "np.min(X_n[4][1])"
   ]
  },
  {
   "cell_type": "code",
   "execution_count": null,
   "id": "3fec58c7",
   "metadata": {},
   "outputs": [],
   "source": [
    "a = (np.linspace(10,95,num=8,dtype=\"int\"))\n",
    "print(a)"
   ]
  },
  {
   "cell_type": "code",
   "execution_count": null,
   "id": "48ccabc8",
   "metadata": {},
   "outputs": [],
   "source": []
  }
 ],
 "metadata": {
  "kernelspec": {
   "display_name": "Python 3.10.4 ('Denoising')",
   "language": "python",
   "name": "python3"
  },
  "language_info": {
   "codemirror_mode": {
    "name": "ipython",
    "version": 3
   },
   "file_extension": ".py",
   "mimetype": "text/x-python",
   "name": "python",
   "nbconvert_exporter": "python",
   "pygments_lexer": "ipython3",
   "version": "3.10.4"
  },
  "vscode": {
   "interpreter": {
    "hash": "0e67e19ff59d2f80a057b9812dc7810ced1077e5c92a2b86de894172d936277f"
   }
  }
 },
 "nbformat": 4,
 "nbformat_minor": 5
}
